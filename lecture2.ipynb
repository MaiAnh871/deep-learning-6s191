{
 "cells": [
  {
   "cell_type": "code",
   "execution_count": 1,
   "metadata": {},
   "outputs": [],
   "source": [
    "import tensorflow as tf"
   ]
  },
  {
   "cell_type": "code",
   "execution_count": null,
   "metadata": {},
   "outputs": [],
   "source": [
    "class MyRNNCell(tf.keras.layers.Layer):\n",
    "    def __init__(self, rnn_uints, input_dim, output_dim):\n",
    "        super(MyRNNCell, self).__init__()\n",
    "\n",
    "        # Initialize weight matrices\n",
    "        self.W_xh = self.add_weight([rnn_uints, input_dim])\n",
    "        self.W_hh = self.add_weight([rnn_uints, rnn_uints])\n",
    "        self.W_hy = self.add_weight([output_dim, rnn_uints])\n",
    "\n",
    "        # Initialize hidden state to zeros\n",
    "        self.h = tf.zeros([rnn_uints, 1])\n",
    "\n",
    "    def call(self, x):\n",
    "        # Update the hidden state\n",
    "        self.h = tf.math.tanh(self.W_hh * self.h + self.W_xh * x)\n",
    "\n",
    "        # Compute the output\n",
    "        output = self.W_hy * self.h\n",
    "\n",
    "        # Return the current output and hidden state\n",
    "        return output, self.h\n",
    "        \n",
    "# tf.keras.layers.SimpleRNN(rnn_uints)"
   ]
  },
  {
   "cell_type": "code",
   "execution_count": null,
   "metadata": {},
   "outputs": [],
   "source": []
  }
 ],
 "metadata": {
  "kernelspec": {
   "display_name": "Python 3.9.8 64-bit",
   "language": "python",
   "name": "python3"
  },
  "language_info": {
   "codemirror_mode": {
    "name": "ipython",
    "version": 3
   },
   "file_extension": ".py",
   "mimetype": "text/x-python",
   "name": "python",
   "nbconvert_exporter": "python",
   "pygments_lexer": "ipython3",
   "version": "3.9.8"
  },
  "orig_nbformat": 4,
  "vscode": {
   "interpreter": {
    "hash": "0d591c6e422414675974e227c13f5382000c440fedd3c5006ef2be5d887f0ba7"
   }
  }
 },
 "nbformat": 4,
 "nbformat_minor": 2
}
