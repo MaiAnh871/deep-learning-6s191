{
 "cells": [
  {
   "cell_type": "code",
   "execution_count": 2,
   "metadata": {},
   "outputs": [],
   "source": [
    "import tensorflow as tf"
   ]
  },
  {
   "cell_type": "code",
   "execution_count": 3,
   "metadata": {},
   "outputs": [],
   "source": [
    "class MyDenseLayer(tf.keras.layers.Layer):\n",
    "    def __init__(self, input_dim, output_dim):\n",
    "        super(MyDenseLayer, self).__init__()\n",
    "\n",
    "        # Initialize weights and bias\n",
    "        self.W = self.add_weight([input_dim, output_dim])\n",
    "        self.b = self.add_weight([1, output_dim])\n",
    "\n",
    "    def call(self, inputs):\n",
    "        # Forward propagate the inputs\n",
    "        z = tf.matmul(inputs, self.W) + self.b\n",
    "\n",
    "        # Feed through a non-linear activation\n",
    "        output = tf.math.sigmoid(z)  \n",
    "\n",
    "        return output  "
   ]
  },
  {
   "cell_type": "code",
   "execution_count": null,
   "metadata": {},
   "outputs": [],
   "source": [
    "# layer = tf.keras.layers.Dense(units=2)\n",
    "# Model just have 1 layer with 2 nodes"
   ]
  },
  {
   "cell_type": "code",
   "execution_count": null,
   "metadata": {},
   "outputs": [],
   "source": [
    "\"\"\"\n",
    "model = tf.keras.Sequential([\n",
    "    tf.keras.layers.Dense(n),\n",
    "    tf.keras.layers.Dense(2)\n",
    "])\n",
    "\"\"\"\n",
    "# Model have 2 layers, hidden layer has n nodes, last layer has 2 nodes"
   ]
  },
  {
   "cell_type": "code",
   "execution_count": null,
   "metadata": {},
   "outputs": [],
   "source": [
    "\"\"\"\n",
    "model = tf.keras.Sequential([\n",
    "    tf.keras.layers.Dense(n1),\n",
    "    tf.keras.layers.Dense(n2),\n",
    "    ...\n",
    "    tf.keras.layers.Dense(2)\n",
    "])\n",
    "\"\"\""
   ]
  },
  {
   "cell_type": "code",
   "execution_count": null,
   "metadata": {},
   "outputs": [],
   "source": [
    "# loss = tf.reduce_mean(tf.nn.softmax_cross_entropy_with_logits(y, predicted))\n",
    "# Cross entropy loss can be used with models that output a probability between 0 and 1"
   ]
  },
  {
   "cell_type": "code",
   "execution_count": null,
   "metadata": {},
   "outputs": [],
   "source": [
    "# loss = tf.reduce_mean(tf.square(tf.subtract(y, predicted)))\n",
    "# loss = tf.keras.losses.MSE(y, predicted)\n",
    "# Mean squared error loss can be used with regression models that output continuous real numbers"
   ]
  },
  {
   "cell_type": "code",
   "execution_count": null,
   "metadata": {},
   "outputs": [],
   "source": [
    "model = tf.keras.Sequential([...])\n",
    "\n",
    "# Pick your favorite optimizer\n",
    "optimizer = tf.keras.optimizer.SGD()\n",
    "\n",
    "while True: #loop forever\n",
    "    # Forward pass through the network\n",
    "    prediction = model(x)\n",
    "\n",
    "    with tf.GradientTape() as tape:\n",
    "        loss = compute_loss(y, prediction);\n",
    "        \n",
    "    # Update the weights using gradient \n",
    "    grads = tape.gradient(loss, model.trainable_variables)\n",
    "    optimizer.apply_gradients(zip(grads, model.trainable_variables))"
   ]
  }
 ],
 "metadata": {
  "kernelspec": {
   "display_name": "Python 3.9.8 64-bit",
   "language": "python",
   "name": "python3"
  },
  "language_info": {
   "codemirror_mode": {
    "name": "ipython",
    "version": 3
   },
   "file_extension": ".py",
   "mimetype": "text/x-python",
   "name": "python",
   "nbconvert_exporter": "python",
   "pygments_lexer": "ipython3",
   "version": "3.9.8"
  },
  "orig_nbformat": 4,
  "vscode": {
   "interpreter": {
    "hash": "0d591c6e422414675974e227c13f5382000c440fedd3c5006ef2be5d887f0ba7"
   }
  }
 },
 "nbformat": 4,
 "nbformat_minor": 2
}
